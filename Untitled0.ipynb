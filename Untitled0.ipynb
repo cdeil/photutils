{
 "metadata": {
  "name": "",
  "signature": "sha256:260eb311de8d67239d7f1c679919318599b415a42fe4568124cf256b226d33bf"
 },
 "nbformat": 3,
 "nbformat_minor": 0,
 "worksheets": [
  {
   "cells": [
    {
     "cell_type": "code",
     "collapsed": false,
     "input": [
      "%pylab inline"
     ],
     "language": "python",
     "metadata": {},
     "outputs": [
      {
       "output_type": "stream",
       "stream": "stdout",
       "text": [
        "Populating the interactive namespace from numpy and matplotlib\n"
       ]
      }
     ],
     "prompt_number": 1
    },
    {
     "cell_type": "code",
     "collapsed": false,
     "input": [
      "d = {'PI': 3.141592653589793,\n",
      " 'area': 3.141592653589793,\n",
      " 'd1': 0.4680517046844026,\n",
      " 'd2': 1.0000000144621801,\n",
      " 'd3': 1.0169197046844025,\n",
      " 'in1': True,\n",
      " 'in2': False,\n",
      " 'in3': False,\n",
      " 'inter': {'p1': {'x': 0.0, 'y': 2.256001576e-314},\n",
      "           'p2': {'x': 0.0, 'y': 0.0}},\n",
      " 'on1': False,\n",
      " 'on2': False,\n",
      " 'on3': False,\n",
      " 'pt1': {'x': -0.0, 'y': 0.0},\n",
      " 'pt2': {'x': 0.0, 'y': 0.0},\n",
      " 'pt3': {'x': 0.0, 'y': 0.0},\n",
      " 'pt4': {'x': 0.0, 'y': 0.0},\n",
      " 'pt5': {'x': 0.0, 'y': 0.0},\n",
      " 'pt6': {'x': 0.0, 'y': 0.0},\n",
      " 'pt_tmp': {'x': 0.0, 'y': 0.0},\n",
      " 'x1': -0.6566353333333333,\n",
      " 'x2': -0.9899686666666666,\n",
      " 'x3': -0.9899686666666666,\n",
      " 'xp': -0.9899686666666666,\n",
      " 'y1': 0.19204620200000008,\n",
      " 'y2': -0.14128713133333326,\n",
      " 'y3': 0.19204620200000008,\n",
      " 'yp': 0.19204620200000008}"
     ],
     "language": "python",
     "metadata": {},
     "outputs": [],
     "prompt_number": 3
    },
    {
     "cell_type": "code",
     "collapsed": false,
     "input": [
      "circle=plt.Circle((0,0),1, alpha=0.5)\n",
      "gca().add_artist(circle)\n",
      "plt.xlim(-2, 2)\n",
      "plt.ylim(-2, 2)\n",
      "\n",
      "from matplotlib.patches import Polygon\n",
      "pts = np.array([[d['x1'],d['y1']], [d['x2'],d['y2']], [d['x3'], d['y3']]])\n",
      "p = Polygon(pts, closed=True, fc='green', alpha=0.5)\n",
      "gca().add_artist(p)"
     ],
     "language": "python",
     "metadata": {},
     "outputs": [
      {
       "metadata": {},
       "output_type": "pyout",
       "prompt_number": 4,
       "text": [
        "<matplotlib.patches.Polygon at 0x106fd7668>"
       ]
      },
      {
       "metadata": {},
       "output_type": "display_data",
       "png": "[encoded data removed]",
       "text": [
        "<matplotlib.figure.Figure at 0x106fd7400>"
       ]
      }
     ],
     "prompt_number": 4
    },
    {
     "cell_type": "code",
     "collapsed": false,
     "input": [
      "plt.plot()"
     ],
     "language": "python",
     "metadata": {},
     "outputs": [
      {
       "metadata": {},
       "output_type": "pyout",
       "prompt_number": 10,
       "text": [
        "[]"
       ]
      },
      {
       "metadata": {},
       "output_type": "display_data",
       "png": "[encoded data removed]",
       "text": [
        "<matplotlib.figure.Figure at 0x10ebf69b0>"
       ]
      }
     ],
     "prompt_number": 10
    },
    {
     "cell_type": "code",
     "collapsed": false,
     "input": [
      "1.0000000144621801 - 1"
     ],
     "language": "python",
     "metadata": {},
     "outputs": [
      {
       "metadata": {},
       "output_type": "pyout",
       "prompt_number": 5,
       "text": [
        "1.4462180120133894e-08"
       ]
      }
     ],
     "prompt_number": 5
    },
    {
     "cell_type": "code",
     "collapsed": false,
     "input": [],
     "language": "python",
     "metadata": {},
     "outputs": []
    }
   ],
   "metadata": {}
  }
 ]
}